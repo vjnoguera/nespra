{
 "cells": [
  {
   "cell_type": "code",
   "execution_count": null,
   "metadata": {},
   "outputs": [],
   "source": [
    "import pandas as pd\n",
    "import numpy as np\n",
    "import matplotlib.pyplot as plt\n",
    "import seaborn as sns\n"
   ]
  },
  {
   "cell_type": "code",
   "execution_count": null,
   "metadata": {},
   "outputs": [],
   "source": [
    "# df4p = df4.loc[df4.loc[:,\"Nº Personas\"]!=0]\n",
    "# # sns.pairplot(df4p.iloc[:,0:2])\n",
    "# df_bp4p = df4p.groupby(\"Hour\")[[\"Nº Personas\"]].max().reset_index()\n",
    "# df_bp4p"
   ]
  },
  {
   "cell_type": "code",
   "execution_count": null,
   "metadata": {},
   "outputs": [],
   "source": [
    "\"\"\" CALCULO DE PERSONAS POR HORA EN EL MES ESPECIFICADO\"\"\"\n",
    "df4p = df4.loc[df4.loc[:,\"Nº Personas\"]!=0].groupby(\"Hour\")[[\"Nº Personas\"]].max().reset_index()\n",
    "# sns.pairplot(df4p.iloc[:,0:2])\n",
    "# df_bp4p = df4p.groupby(\"Hour\")[[\"Nº Personas\"]].max().reset_index()\n",
    "# df_bp4p\n",
    "df4p"
   ]
  },
  {
   "cell_type": "code",
   "execution_count": null,
   "metadata": {},
   "outputs": [],
   "source": [
    "df4p = df4.loc[df4.loc[:,\"Nº Personas\"]!=0].groupby(\"Hour\")[[\"Nº Personas\"]].max().reset_index()\n",
    "df3p = df3.loc[df3.loc[:,\"Nº Personas\"]!=0].groupby(\"Hour\")[[\"Nº Personas\"]].max().reset_index()\n",
    "df2p = df2.loc[df2.loc[:,\"Nº Personas\"]!=0].groupby(\"Hour\")[[\"Nº Personas\"]].max().reset_index()\n",
    "df1p = df1.loc[df1.loc[:,\"Nº Personas\"]!=0].groupby(\"Hour\")[[\"Nº Personas\"]].max().reset_index()\n",
    "df12p = df12.loc[df12.loc[:,\"Nº Personas\"]!=0].groupby(\"Hour\")[[\"Nº Personas\"]].max().reset_index()\n",
    "df11p = df11.loc[df11.loc[:,\"Nº Personas\"]!=0].groupby(\"Hour\")[[\"Nº Personas\"]].max().reset_index()\n",
    "df10p = df10.loc[df10.loc[:,\"Nº Personas\"]!=0].groupby(\"Hour\")[[\"Nº Personas\"]].max().reset_index()"
   ]
  }
 ],
 "metadata": {
  "language_info": {
   "name": "python"
  }
 },
 "nbformat": 4,
 "nbformat_minor": 2
}
